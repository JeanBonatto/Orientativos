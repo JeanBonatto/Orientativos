{
 "cells": [
  {
   "cell_type": "markdown",
   "id": "70bf5f86-5a4d-4201-8d29-9db556308ac5",
   "metadata": {
    "tags": []
   },
   "source": [
    "# 1- Bibliotecas Usadas ( Comumente)"
   ]
  },
  {
   "cell_type": "code",
   "execution_count": 3,
   "id": "0406cd50-7f5c-44d4-a4c2-280787a4ae92",
   "metadata": {},
   "outputs": [],
   "source": [
    "import numpy as np\n",
    "import pandas as pd\n",
    "import matplotlib.pyplot as plt\n",
    "import seaborn as sns\n",
    "import scipy as sp\n",
    "import statsmodels.api as sm\n",
    "import patsy as pt\n",
    "from sklearn import metrics\n",
    "from sklearn.model_selection import train_test_split\n",
    "from statsmodels.stats.outliers_influence import variance_inflation_factor\n",
    "from sklearn.linear_model import Ridge\n",
    "\n",
    "from sklearn.metrics import mean_absolute_error"
   ]
  },
  {
   "cell_type": "markdown",
   "id": "92f5f097-690c-4941-86c5-5f9370c5c6e4",
   "metadata": {},
   "source": [
    "# 2- EDA -"
   ]
  },
  {
   "cell_type": "markdown",
   "id": "faede812-57c5-47d5-abb9-7825bc5e7edb",
   "metadata": {
    "tags": []
   },
   "source": [
    "## 2.1 -Estatísticas descritivas "
   ]
  },
  {
   "cell_type": "code",
   "execution_count": null,
   "id": "2c131f63-7a22-4ff0-95f7-6051bf60921d",
   "metadata": {},
   "outputs": [],
   "source": [
    "#df.describe()\n",
    "#df.isnull().sum\n",
    "#df.info()"
   ]
  },
  {
   "cell_type": "markdown",
   "id": "124784c9-8ae0-4c41-bc2f-63c56cc7a06a",
   "metadata": {},
   "source": [
    "### 2.1.1- Plot de correlação"
   ]
  },
  {
   "cell_type": "code",
   "execution_count": 2,
   "id": "ac07e2a5-6fef-430c-b7f2-741103160bb4",
   "metadata": {},
   "outputs": [
    {
     "ename": "NameError",
     "evalue": "name 'corrWM' is not defined",
     "output_type": "error",
     "traceback": [
      "\u001b[1;31m---------------------------------------------------------------------------\u001b[0m",
      "\u001b[1;31mNameError\u001b[0m                                 Traceback (most recent call last)",
      "\u001b[1;32mc:\\Users\\Usuario\\Desktop\\Jean Data Science\\001- Orientativos\\HelpClassificacao.ipynb Célula: 7\u001b[0m in \u001b[0;36m<cell line: 1>\u001b[1;34m()\u001b[0m\n\u001b[1;32m----> <a href='vscode-notebook-cell:/c%3A/Users/Usuario/Desktop/Jean%20Data%20Science/001-%20Orientativos/HelpClassificacao.ipynb#W6sZmlsZQ%3D%3D?line=0'>1</a>\u001b[0m plot \u001b[39m=\u001b[39m sns\u001b[39m.\u001b[39mheatmap(corrWM, annot \u001b[39m=\u001b[39m \u001b[39mTrue\u001b[39;00m, cmap\u001b[39m=\u001b[39m\u001b[39m\"\u001b[39m\u001b[39mRdBu\u001b[39m\u001b[39m\"\u001b[39m, fmt\u001b[39m=\u001b[39m\u001b[39m\"\u001b[39m\u001b[39m.2f\u001b[39m\u001b[39m\"\u001b[39m, linewidths\u001b[39m=\u001b[39m\u001b[39m.6\u001b[39m)\n\u001b[0;32m      <a href='vscode-notebook-cell:/c%3A/Users/Usuario/Desktop/Jean%20Data%20Science/001-%20Orientativos/HelpClassificacao.ipynb#W6sZmlsZQ%3D%3D?line=1'>2</a>\u001b[0m plot\n",
      "\u001b[1;31mNameError\u001b[0m: name 'corrWM' is not defined"
     ]
    }
   ],
   "source": [
    "plot = sns.heatmap(corrWM, annot = True, cmap=\"RdBu\", fmt=\".2f\", linewidths=.6)\n",
    "plot"
   ]
  },
  {
   "cell_type": "markdown",
   "id": "9a136038-c965-4b89-9f3e-04d5c44b642f",
   "metadata": {
    "tags": []
   },
   "source": [
    "## 2.2- Plotar Varios Histogramas"
   ]
  },
  {
   "cell_type": "code",
   "execution_count": 6,
   "id": "c1e76fe7-c8c5-40d4-b7de-5d5a59eb3246",
   "metadata": {},
   "outputs": [],
   "source": [
    "    ##Nome das colunas - Pode somente numericas\n",
    "#contColNames = list(df.select_dtypes(include='number').columns)\n",
    "    ##Tamnho subplot\n",
    "#ncols = 3\n",
    "#nrows = int(np.ceil(len(contColNames)/(1.0 * ncols)))"
   ]
  },
  {
   "cell_type": "code",
   "execution_count": null,
   "id": "f7a98162-4a8c-48b2-a8b8-9bf481c592dc",
   "metadata": {},
   "outputs": [],
   "source": [
    "##Plot\n",
    "fig, axes = plt.subplots(nrows=nrows, ncols=ncols, figsize=(20,10))\n",
    "\n",
    "counter = 0 \n",
    "\n",
    "for i in range(nrows):\n",
    "  for j in range(ncols):\n",
    "\n",
    "    ax = axes[i][j]\n",
    "\n",
    "    # Plotar somente quando houver dados\n",
    "    if counter < len(contColNames):\n",
    "\n",
    "      ax.hist(df.select_dtypes(include='number')[contColNames[counter]], bins=10)\n",
    "      ax.set_xlabel(contColNames[counter])\n",
    "      ax.set_ylabel('Frequência')\n",
    "\n",
    "    else:\n",
    "      ax.set_axis_off()\n",
    "\n",
    "    counter += 1\n",
    "\n",
    "plt.show()"
   ]
  },
  {
   "cell_type": "markdown",
   "id": "6ae371ca-c69e-4144-acee-6b70046a638b",
   "metadata": {},
   "source": []
  },
  {
   "cell_type": "markdown",
   "id": "14cf2943-7e1c-4246-916b-5076a628e639",
   "metadata": {
    "tags": []
   },
   "source": [
    "## 2.3- PairPlot"
   ]
  },
  {
   "cell_type": "code",
   "execution_count": 4,
   "id": "caba2800-a227-441a-ba78-e07652b78cdb",
   "metadata": {},
   "outputs": [
    {
     "ename": "NameError",
     "evalue": "name 'df' is not defined",
     "output_type": "error",
     "traceback": [
      "\u001b[1;31m---------------------------------------------------------------------------\u001b[0m",
      "\u001b[1;31mNameError\u001b[0m                                 Traceback (most recent call last)",
      "\u001b[1;32mc:\\Users\\Usuario\\Desktop\\Jean Data Science\\001- Orientativos\\HelpClassificacao.ipynb Célula: 13\u001b[0m in \u001b[0;36m<cell line: 1>\u001b[1;34m()\u001b[0m\n\u001b[1;32m----> <a href='vscode-notebook-cell:/c%3A/Users/Usuario/Desktop/Jean%20Data%20Science/001-%20Orientativos/HelpClassificacao.ipynb#X15sZmlsZQ%3D%3D?line=0'>1</a>\u001b[0m sns\u001b[39m.\u001b[39mpairplot(df)\n",
      "\u001b[1;31mNameError\u001b[0m: name 'df' is not defined"
     ]
    }
   ],
   "source": [
    "sns.pairplot(df)"
   ]
  },
  {
   "cell_type": "code",
   "execution_count": null,
   "id": "a27b12d0",
   "metadata": {},
   "outputs": [],
   "source": [
    "df = "
   ]
  },
  {
   "cell_type": "markdown",
   "id": "ca0d0a09-d3ed-486e-a91f-fb5bf91cba2d",
   "metadata": {
    "tags": []
   },
   "source": [
    "## 2.4- Plota Varios BoxPlot"
   ]
  },
  {
   "cell_type": "code",
   "execution_count": 5,
   "id": "0650e100-e4c4-4912-80f5-62eeb5da3d66",
   "metadata": {},
   "outputs": [
    {
     "ename": "NameError",
     "evalue": "name 'df_train' is not defined",
     "output_type": "error",
     "traceback": [
      "\u001b[1;31m---------------------------------------------------------------------------\u001b[0m",
      "\u001b[1;31mNameError\u001b[0m                                 Traceback (most recent call last)",
      "\u001b[1;32mc:\\Users\\Usuario\\Desktop\\Jean Data Science\\001- Orientativos\\HelpClassificacao.ipynb Célula: 16\u001b[0m in \u001b[0;36m<cell line: 16>\u001b[1;34m()\u001b[0m\n\u001b[0;32m     <a href='vscode-notebook-cell:/c%3A/Users/Usuario/Desktop/Jean%20Data%20Science/001-%20Orientativos/HelpClassificacao.ipynb#X20sZmlsZQ%3D%3D?line=12'>13</a>\u001b[0m     ax\u001b[39m.\u001b[39mset_title(col)\n\u001b[0;32m     <a href='vscode-notebook-cell:/c%3A/Users/Usuario/Desktop/Jean%20Data%20Science/001-%20Orientativos/HelpClassificacao.ipynb#X20sZmlsZQ%3D%3D?line=13'>14</a>\u001b[0m     ax\u001b[39m.\u001b[39mboxplot(df[col])\n\u001b[1;32m---> <a href='vscode-notebook-cell:/c%3A/Users/Usuario/Desktop/Jean%20Data%20Science/001-%20Orientativos/HelpClassificacao.ipynb#X20sZmlsZQ%3D%3D?line=15'>16</a>\u001b[0m draw_boxplots(df_train, df_train\u001b[39m.\u001b[39mcolumns)\n",
      "\u001b[1;31mNameError\u001b[0m: name 'df_train' is not defined"
     ]
    }
   ],
   "source": [
    "import matplotlib.pyplot as plt\n",
    "import matplotlib.gridspec as gridspec\n",
    "\n",
    "def draw_boxplots(df, selected_features):\n",
    "  n = len(selected_features)\n",
    "  fig = plt.figure(constrained_layout=True, figsize=(20, 30))\n",
    "  gs = gridspec.GridSpec(int(n/3) + 1, 3, figure=fig)\n",
    "  for i in range(n):\n",
    "    k = int(i / 3)\n",
    "    j = i % 3\n",
    "    col = selected_features[i]\n",
    "    ax = fig.add_subplot(gs[k, j])\n",
    "    ax.set_title(col)\n",
    "    ax.boxplot(df[col])\n",
    "\n",
    "draw_boxplots(df_train, df_train.columns)"
   ]
  },
  {
   "cell_type": "markdown",
   "id": "7b030d3b-2fa9-4d94-ac7b-5fcfb2f67274",
   "metadata": {
    "tags": []
   },
   "source": [
    "## 2.5- Remove Auto Outliers"
   ]
  },
  {
   "cell_type": "code",
   "execution_count": null,
   "id": "e30a3445-63dc-4fc2-85fb-fa272ef27933",
   "metadata": {},
   "outputs": [],
   "source": [
    "def replace_outliers(df, var_names):\n",
    "  for var_name in var_names:\n",
    "    # calculating Q1 and Q3\n",
    "    Q1 = df.loc[:,var_name].quantile(0.25)\n",
    "    Q3 = df.loc[:,var_name].quantile(0.75)\n",
    "    # calculating Interquartile IQR\n",
    "    IQR = Q3 - Q1\n",
    "    # build up filter\n",
    "    filter_up = (df.loc[:,var_name] > Q3 + 1.5 *IQR)\n",
    "    # apply up filter on df\n",
    "    df.loc[filter_up, var_name] = Q3 + 1.5 *IQR\n",
    "    # build down filter\n",
    "    filter_down = (df.loc[:,var_name] < Q1 - 1.5 * IQR)\n",
    "    # apply down filter on df\n",
    "    df.loc[filter_down, var_name] = Q1 - 1.5 * IQR"
   ]
  },
  {
   "cell_type": "markdown",
   "id": "97b446dc-c858-4bdc-8119-11320289f03c",
   "metadata": {},
   "source": [
    "# 3 PRÉ-PROCESSAMENTO DOS DADOS"
   ]
  },
  {
   "cell_type": "markdown",
   "id": "9aef0028-cbac-4c49-b0e2-3f85626b6d44",
   "metadata": {
    "tags": []
   },
   "source": [
    "## 3.1- Selecionar os tipos de variaveis."
   ]
  },
  {
   "cell_type": "markdown",
   "id": "859ae88c-1c14-4ddb-8ad9-a77b7d228787",
   "metadata": {},
   "source": [
    "### 3.1.1- Number e Category"
   ]
  },
  {
   "cell_type": "code",
   "execution_count": null,
   "id": "0bb22d36-68a4-4e46-a6e4-d1de69c66ef5",
   "metadata": {},
   "outputs": [],
   "source": [
    "#Seleciona o tipo de variavel Number dentro do data\n",
    "dfNum = df.select_dtypes(include='number').drop(['Unnamed: 0'], axis = 1)\n",
    "dfNum.head()"
   ]
  },
  {
   "cell_type": "code",
   "execution_count": null,
   "id": "65d8abff-9818-449a-9fb3-c72a0596b250",
   "metadata": {},
   "outputs": [],
   "source": [
    "# Mudar o tipo de variável para 'categórico'\n",
    "df['cut'] = df['cut'].astype('category')\n",
    "df['color'] = df['color'].astype('category')\n",
    "df['clarity'] = df['clarity'].astype('category')\n",
    "# Selecionar somente as variáveis categóricas\n",
    "dfCat = df.select_dtypes(include='category')\n",
    "dfCat.head(2)"
   ]
  },
  {
   "cell_type": "markdown",
   "id": "a8d59654-1508-4e42-a210-af48ad487fe3",
   "metadata": {
    "jp-MarkdownHeadingCollapsed": true,
    "tags": []
   },
   "source": [
    "### 3.1.2- Variavel Target"
   ]
  },
  {
   "cell_type": "code",
   "execution_count": null,
   "id": "cdcee4dc-ecdc-4da0-a11a-60441a5b0019",
   "metadata": {},
   "outputs": [],
   "source": [
    "y = df['varTarget']"
   ]
  },
  {
   "cell_type": "markdown",
   "id": "098195a1-d89c-467e-9780-eff1fa4158ea",
   "metadata": {},
   "source": [
    "### 3.2.3 Teste log da resposta"
   ]
  },
  {
   "cell_type": "code",
   "execution_count": null,
   "id": "6419aba7-eb59-4daa-9871-8d9b3a808997",
   "metadata": {},
   "outputs": [],
   "source": [
    "kStat, kPvalue = sp.stats.kstest(rvs=np.log(y), cdf='norm')"
   ]
  },
  {
   "cell_type": "code",
   "execution_count": null,
   "id": "b2bdc197-3a64-4b4f-9936-8e2114e77780",
   "metadata": {},
   "outputs": [],
   "source": [
    "kStat"
   ]
  },
  {
   "cell_type": "code",
   "execution_count": null,
   "id": "a1f5933f-4362-4afc-842a-fc1c1e7e3368",
   "metadata": {},
   "outputs": [],
   "source": [
    "kPvalue"
   ]
  },
  {
   "cell_type": "code",
   "execution_count": null,
   "id": "705a5514-6ec2-4bc1-a478-e656ccb45304",
   "metadata": {},
   "outputs": [],
   "source": []
  },
  {
   "cell_type": "markdown",
   "id": "ce9ebbca-b718-4f30-899a-c1cf94a9448f",
   "metadata": {
    "tags": []
   },
   "source": [
    "## 3.2 - Escalonamento da variavel"
   ]
  },
  {
   "cell_type": "code",
   "execution_count": null,
   "id": "32421a0b-f0f3-4782-b185-1c91700f67ef",
   "metadata": {},
   "outputs": [],
   "source": [
    "# Criar a função para o escalonamento dos dados\n",
    "def feat_scale(X):\n",
    "\n",
    "  # Calcular a média de todas as variáveis\n",
    "  mu = np.mean(X, axis = 0)\n",
    "\n",
    "  # Calcular o devio padrão de todas as variáveis\n",
    "  sigma = np.std(X, axis=0, ddof=1)\n",
    "\n",
    "  # Fazer os escalonamento das variáveis\n",
    "  xNorm = (X - mu)/sigma\n",
    "\n",
    "  return xNorm"
   ]
  },
  {
   "cell_type": "code",
   "execution_count": null,
   "id": "c193f96e-ebea-46f8-b319-8731b699c1cf",
   "metadata": {},
   "outputs": [],
   "source": [
    "#Atribuição ao DF\n",
    "dfNorm = feat_scale(dfNum)\n",
    "dfNorm.head(2)"
   ]
  },
  {
   "cell_type": "code",
   "execution_count": null,
   "id": "80e56c99-a81d-4269-b791-be8a46afe27b",
   "metadata": {},
   "outputs": [],
   "source": [
    "# Normalização das variáveis- Com Sklearn\n",
    "from sklearn.preprocessing import MinMaxScaler\n",
    "\n",
    "scaler = MinMaxScaler()\n",
    "scaler.fit(X_train)\n",
    "\n",
    "X_train_scaled = scaler.transform(X_train)\n",
    "X_test_scaled = scaler.transform(X_test)\n",
    "\n",
    "# Transformand para dataframe para visualização ## O Xtrain viara Array\n",
    "X_train = pd.DataFrame(X_train_scaled,columns = X_train.columns)\n",
    "X_test = pd.DataFrame(X_test_scaled,columns = X_test.columns)"
   ]
  },
  {
   "cell_type": "markdown",
   "id": "74b4b904-94ff-4452-a3af-544c52b41cd6",
   "metadata": {
    "tags": []
   },
   "source": [
    "## 3.3 -Pré-tratamento das variáveis categóricas "
   ]
  },
  {
   "cell_type": "markdown",
   "id": "5395c2c3-3287-4335-809b-9c5690a02e2a",
   "metadata": {},
   "source": [
    "### 3.3.1- Dummificação"
   ]
  },
  {
   "cell_type": "code",
   "execution_count": null,
   "id": "3178bfe5-b456-4bb2-b67a-d6d8863a0413",
   "metadata": {},
   "outputs": [],
   "source": [
    "dfDum = pd.get_dummies(dfCat)\n",
    "dfDum.head(2)"
   ]
  },
  {
   "cell_type": "markdown",
   "id": "9a893473-2d33-438d-846b-ab695c1d9129",
   "metadata": {
    "tags": []
   },
   "source": [
    "## 3.4 - Concatenação do Data "
   ]
  },
  {
   "cell_type": "code",
   "execution_count": 8,
   "id": "2e0b54c8-b547-4307-8bf1-8b4ad0ddaa1a",
   "metadata": {},
   "outputs": [
    {
     "ename": "NameError",
     "evalue": "name 'dfNorm' is not defined",
     "output_type": "error",
     "traceback": [
      "\u001b[1;31m---------------------------------------------------------------------------\u001b[0m",
      "\u001b[1;31mNameError\u001b[0m                                 Traceback (most recent call last)",
      "Input \u001b[1;32mIn [8]\u001b[0m, in \u001b[0;36m<cell line: 1>\u001b[1;34m()\u001b[0m\n\u001b[1;32m----> 1\u001b[0m dfFinal \u001b[38;5;241m=\u001b[39m pd\u001b[38;5;241m.\u001b[39mconcat([\u001b[43mdfNorm\u001b[49m\u001b[38;5;241m.\u001b[39mreset_index(drop\u001b[38;5;241m=\u001b[39m\u001b[38;5;28;01mTrue\u001b[39;00m), dfDum], axis\u001b[38;5;241m=\u001b[39m\u001b[38;5;241m1\u001b[39m)\n\u001b[0;32m      2\u001b[0m dfFinal\u001b[38;5;241m.\u001b[39mhead(\u001b[38;5;241m2\u001b[39m)\n",
      "\u001b[1;31mNameError\u001b[0m: name 'dfNorm' is not defined"
     ]
    }
   ],
   "source": [
    "dfFinal = pd.concat([dfNorm.reset_index(drop=True), dfDum], axis=1)\n",
    "dfFinal.head(2)"
   ]
  },
  {
   "cell_type": "markdown",
   "id": "8c5576ab-6d35-44aa-9ed2-13139dfefc4b",
   "metadata": {
    "jp-MarkdownHeadingCollapsed": true,
    "tags": []
   },
   "source": [
    "### 3.4.1 - Com OneHotEncoder Scklearn"
   ]
  },
  {
   "cell_type": "code",
   "execution_count": null,
   "id": "85fde1fb-9f8a-46d8-b44e-0cb778d48307",
   "metadata": {},
   "outputs": [],
   "source": [
    "from sklearn.preprocessing import OneHotEncoder\n",
    "\n",
    "enc = OneHotEncoder(handle_unknown='ignore')\n",
    "enc.fit(X)\n",
    "#Criando a Lista\n",
    "list(zip(X, enc.transform(X).toarray()))\n",
    "\n",
    "#Transformando e Trainando#\n",
    "X_transformed = enc.transform(X).toarray()\n",
    "\n",
    "reg = LinearRegression().fit(X_transformed, y)\n",
    "\n",
    "# Retorna o coeficiente de determinação R² da previsão:\n",
    "# melhor quando mais perto de zero\n",
    "reg.score(X_transformed, y)"
   ]
  },
  {
   "cell_type": "code",
   "execution_count": null,
   "id": "25680649-a8a8-4a7d-84f5-808b14c6c2b9",
   "metadata": {},
   "outputs": [],
   "source": []
  },
  {
   "cell_type": "code",
   "execution_count": null,
   "id": "b4f21862-65db-463e-b12f-59dc5db36f0f",
   "metadata": {},
   "outputs": [],
   "source": []
  },
  {
   "cell_type": "markdown",
   "id": "7451c419-0c34-4357-bf11-97d207fbcff8",
   "metadata": {
    "tags": []
   },
   "source": [
    "# 5 - Separa o Data em Train e Teste"
   ]
  },
  {
   "cell_type": "code",
   "execution_count": null,
   "id": "7239bbc2-8381-455c-b93d-acb77a73c294",
   "metadata": {},
   "outputs": [],
   "source": [
    "from sklearn.model_selection import train_test_split\n",
    "X_train, X_test, y_train, y_test = train_test_split(\n",
    "    X, y, test_size=0.33, random_state=42) # o 0,33 significa 33% dos dados\n",
    "print(X_train.shape)\n",
    "print(X_test.shape)"
   ]
  },
  {
   "cell_type": "code",
   "execution_count": null,
   "id": "90612a78-eba5-4d46-b390-ce97dd091ee4",
   "metadata": {},
   "outputs": [],
   "source": []
  },
  {
   "cell_type": "markdown",
   "id": "c7266019-bc2c-4801-ba29-169db50d5fcc",
   "metadata": {},
   "source": [
    "## 5.1- Ajuste Modelo OLS"
   ]
  },
  {
   "cell_type": "code",
   "execution_count": null,
   "id": "72f145a0-09bb-49b8-b96e-ab159ce9c9de",
   "metadata": {},
   "outputs": [],
   "source": [
    "import statsmodels.api as sm\n",
    "reg3 = sm.OLS(yTrain, xTrain)\n",
    "reg3fit = reg3.fit()\n",
    "print(reg1fit.summary())"
   ]
  },
  {
   "cell_type": "markdown",
   "id": "31ad02a7-1bf0-4d39-af89-8bbdab75d233",
   "metadata": {},
   "source": [
    "# 6 Predição"
   ]
  },
  {
   "cell_type": "markdown",
   "id": "8115eda1-b010-4bb6-bba9-977a028dadd2",
   "metadata": {},
   "source": [
    "## 6.1  Regressão Linear"
   ]
  },
  {
   "cell_type": "code",
   "execution_count": 13,
   "id": "354ae6d0-6392-41d4-bec2-733674c9852c",
   "metadata": {},
   "outputs": [
    {
     "ename": "NameError",
     "evalue": "name 'X_train' is not defined",
     "output_type": "error",
     "traceback": [
      "\u001b[1;31m---------------------------------------------------------------------------\u001b[0m",
      "\u001b[1;31mNameError\u001b[0m                                 Traceback (most recent call last)",
      "Input \u001b[1;32mIn [13]\u001b[0m, in \u001b[0;36m<cell line: 3>\u001b[1;34m()\u001b[0m\n\u001b[0;32m      1\u001b[0m \u001b[38;5;28;01mfrom\u001b[39;00m \u001b[38;5;21;01msklearn\u001b[39;00m\u001b[38;5;21;01m.\u001b[39;00m\u001b[38;5;21;01mlinear_model\u001b[39;00m \u001b[38;5;28;01mimport\u001b[39;00m LinearRegression\n\u001b[0;32m      2\u001b[0m \u001b[38;5;28;01mfrom\u001b[39;00m \u001b[38;5;21;01msklearn\u001b[39;00m\u001b[38;5;21;01m.\u001b[39;00m\u001b[38;5;21;01mmetrics\u001b[39;00m \u001b[38;5;28;01mimport\u001b[39;00m mean_absolute_error,mean_squared_error, r2_score\n\u001b[1;32m----> 3\u001b[0m reg \u001b[38;5;241m=\u001b[39m LinearRegression()\u001b[38;5;241m.\u001b[39mfit(\u001b[43mX_train\u001b[49m, y_train)\n\u001b[0;32m      5\u001b[0m y_train_pred \u001b[38;5;241m=\u001b[39m reg\u001b[38;5;241m.\u001b[39mpredict(X_train)\n\u001b[0;32m      6\u001b[0m y_pred \u001b[38;5;241m=\u001b[39m reg\u001b[38;5;241m.\u001b[39mpredict(X_test)\n",
      "\u001b[1;31mNameError\u001b[0m: name 'X_train' is not defined"
     ]
    }
   ],
   "source": [
    "from sklearn.linear_model import LinearRegression\n",
    "from sklearn.metrics import mean_absolute_error,mean_squared_error,r2_score\n",
    "reg = LinearRegression().fit(X_train, y_train)\n",
    "\n",
    "y_train_pred = reg.predict(X_train)\n",
    "y_pred = reg.predict(X_test)\n",
    "\n",
    "print(\"MAE = {}\".format(mean_absolute_error(y_test, y_pred)))\n",
    "print(\"RMSE = {}\".format(mean_squared_error(y_test, pred, squared=False)))\n",
    "print(\"R² = {}\".format(r2_score(y_test, y_pred)))"
   ]
  },
  {
   "cell_type": "markdown",
   "id": "27b5242a-9317-4f6b-bcce-1c065de70b99",
   "metadata": {
    "tags": []
   },
   "source": [
    "# 6 - Hiperparemetros"
   ]
  },
  {
   "cell_type": "code",
   "execution_count": null,
   "id": "8f0d8b06-a410-4e6e-9ad3-0bc61b5e2340",
   "metadata": {},
   "outputs": [],
   "source": [
    "from sklearn.model_selection import GridSearchCV\n",
    "\n",
    "parameters = {'max_depth': [2, 5, 10], 'n_estimators':[10, 100, 300]}\n",
    "regr = RandomForestRegressor(max_depth=5, random_state=0)\n",
    "clf = GridSearchCV(regr, parameters)\n",
    "clf.fit(X_train_preprocessed, y_train_preprocessed)"
   ]
  },
  {
   "cell_type": "code",
   "execution_count": null,
   "id": "6d6e4aee-e06a-4f6d-b276-76fda591074f",
   "metadata": {},
   "outputs": [],
   "source": [
    "y_pred = clf.predict(X_test_preprocessed)\n",
    "mean_absolute_error(y_test_preprocessed, y_pred)"
   ]
  },
  {
   "cell_type": "code",
   "execution_count": null,
   "id": "5fabbc36-9f36-4e51-88a0-800a9f616e3d",
   "metadata": {},
   "outputs": [],
   "source": [
    "r2_score(y_test_preprocessed, y_pred)"
   ]
  },
  {
   "cell_type": "code",
   "execution_count": null,
   "id": "8934818d-d4ac-484b-8ab7-8c5fba6a0812",
   "metadata": {},
   "outputs": [],
   "source": [
    "clf.best_params_"
   ]
  },
  {
   "cell_type": "markdown",
   "id": "be0d70dd-c989-467f-9bdb-e1e7abda1bb3",
   "metadata": {},
   "source": [
    "## 7 -métricas de avaliação de qualidade"
   ]
  },
  {
   "cell_type": "code",
   "execution_count": null,
   "id": "18468e2a-d0f4-49d6-a69a-7693f3a7bca2",
   "metadata": {},
   "outputs": [],
   "source": [
    "\n",
    "from sklearn.metrics import accuracy_score, f1_score, recall_score, precision_score\n",
    "print(f'Acurácia: {accuracy_score(y_test.squeeze(), y_pred) * 100:.3f} % \\n'\n",
    "      f'Precisão: {precision_score(y_test.squeeze(), y_pred) * 100:.3f} % \\n'\n",
    "      f'Recall:   {recall_score(y_test.squeeze(), y_pred) * 100:.3f} % \\n'\n",
    "      f'F1:       {f1_score(y_test.squeeze(), y_pred) * 100:.3f} %')"
   ]
  },
  {
   "cell_type": "markdown",
   "id": "d772fae1-98a3-41ae-a09e-ab36131dc21a",
   "metadata": {},
   "source": [
    "# 10 Gráficos Tops"
   ]
  },
  {
   "cell_type": "code",
   "execution_count": 10,
   "id": "bbe2614d-98d3-4456-8577-e98d74e651b1",
   "metadata": {},
   "outputs": [
    {
     "ename": "NameError",
     "evalue": "name 'X' is not defined",
     "output_type": "error",
     "traceback": [
      "\u001b[1;31m---------------------------------------------------------------------------\u001b[0m",
      "\u001b[1;31mNameError\u001b[0m                                 Traceback (most recent call last)",
      "Input \u001b[1;32mIn [10]\u001b[0m, in \u001b[0;36m<cell line: 2>\u001b[1;34m()\u001b[0m\n\u001b[0;32m      1\u001b[0m \u001b[38;5;28;01mimport\u001b[39;00m \u001b[38;5;21;01mmatplotlib\u001b[39;00m\u001b[38;5;21;01m.\u001b[39;00m\u001b[38;5;21;01mpyplot\u001b[39;00m \u001b[38;5;28;01mas\u001b[39;00m \u001b[38;5;21;01mplt\u001b[39;00m\n\u001b[1;32m----> 2\u001b[0m plt\u001b[38;5;241m.\u001b[39mscatter(\u001b[43mX\u001b[49m, y, edgecolors\u001b[38;5;241m=\u001b[39m\u001b[38;5;124m'\u001b[39m\u001b[38;5;124mk\u001b[39m\u001b[38;5;124m'\u001b[39m, c\u001b[38;5;241m=\u001b[39m[\u001b[38;5;124m'\u001b[39m\u001b[38;5;124mr\u001b[39m\u001b[38;5;124m'\u001b[39m])\n\u001b[0;32m      3\u001b[0m plt\u001b[38;5;241m.\u001b[39mxlabel(\u001b[38;5;124m'\u001b[39m\u001b[38;5;124mFeature 1\u001b[39m\u001b[38;5;124m'\u001b[39m)\n\u001b[0;32m      4\u001b[0m plt\u001b[38;5;241m.\u001b[39mylabel(\u001b[38;5;124m'\u001b[39m\u001b[38;5;124mPrices\u001b[39m\u001b[38;5;124m'\u001b[39m)\n",
      "\u001b[1;31mNameError\u001b[0m: name 'X' is not defined"
     ]
    }
   ],
   "source": [
    "import matplotlib.pyplot as plt\n",
    "plt.scatter(X, y, edgecolors='k', c=['r'])\n",
    "plt.xlabel('Feature 1')\n",
    "plt.ylabel('Prices')\n",
    "plt.title('Prices Boston')\n",
    "\n",
    "plt.plot(X, y_pred, marker = 'o')\n",
    "plt.show()"
   ]
  },
  {
   "cell_type": "raw",
   "id": "4aafa139-302e-40f9-8071-935d2b27534e",
   "metadata": {},
   "source": []
  },
  {
   "cell_type": "code",
   "execution_count": null,
   "id": "a0eb5cca-cf2a-4b94-b367-f97c2d3cceac",
   "metadata": {},
   "outputs": [],
   "source": []
  }
 ],
 "metadata": {
  "kernelspec": {
   "display_name": "Python 3.9.12 ('base')",
   "language": "python",
   "name": "python3"
  },
  "language_info": {
   "codemirror_mode": {
    "name": "ipython",
    "version": 3
   },
   "file_extension": ".py",
   "mimetype": "text/x-python",
   "name": "python",
   "nbconvert_exporter": "python",
   "pygments_lexer": "ipython3",
   "version": "3.9.12"
  },
  "vscode": {
   "interpreter": {
    "hash": "e06ff7da33dc9620448857a90ad8b5f428f0d573d205a934d2841c8aee45ea32"
   }
  }
 },
 "nbformat": 4,
 "nbformat_minor": 5
}
